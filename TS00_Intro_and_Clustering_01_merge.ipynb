{
 "cells": [
  {
   "cell_type": "markdown",
   "metadata": {
    "slideshow": {
     "slide_type": "slide"
    }
   },
   "source": [
    "# Welcome!\n",
    "## to MSAIL Winter 2016\n",
    "### Tutorial Series 00!"
   ]
  },
  {
   "cell_type": "markdown",
   "metadata": {
    "slideshow": {
     "slide_type": "fragment"
    }
   },
   "source": [
    "![](files/iris.jpg)\n",
    "*We'll analyze these flowers!*\n",
    "\n",
    "**TODO: insert image about clustering.**\n",
    "**NOTE: downarrow to view outline.**"
   ]
  },
  {
   "cell_type": "markdown",
   "metadata": {
    "slideshow": {
     "slide_type": "subslide"
    }
   },
   "source": [
    "Outline:\n",
    "\n",
    " 0. Introduction\n",
    "   0. Introduce: MSAIL, Aaron, Sam\n",
    "   1. Ask: Students' backgrounds?\n",
    "   2. Setup: Jupyter\n",
    " 1. What is Machine Learning?\n",
    "   0. Programming: Hardcoded?\n",
    "   1. Rules to Learn Rules: Flavors of ML\n",
    "   2. Clustering Problem.\n",
    "   3. Model, Iteration, E-M, KMeans\n",
    " 2. Hands-on\n",
    "   0. Iris Dataset\n",
    "   1. iPython: sci-kit-learn.\n",
    "   2. iPython: kmeans clustering\n",
    " 3. Wrap-up\n",
    "   0. Talk Feedback\n",
    "   1. Discussion\n",
    " "
   ]
  },
  {
   "cell_type": "markdown",
   "metadata": {
    "slideshow": {
     "slide_type": "slide"
    }
   },
   "source": [
    "## Introduce: MSAIL, Aaron, Sam\n"
   ]
  },
  {
   "cell_type": "markdown",
   "metadata": {
    "slideshow": {
     "slide_type": "subslide"
    }
   },
   "source": [
    "### Aaron\n",
    "\n",
    "![](files/aaron.jpg)"
   ]
  },
  {
   "cell_type": "markdown",
   "metadata": {
    "slideshow": {
     "slide_type": "subslide"
    }
   },
   "source": [
    "### Sam\n",
    "\n",
    "![](files/sam.jpg)"
   ]
  },
  {
   "cell_type": "markdown",
   "metadata": {
    "slideshow": {
     "slide_type": "subslide"
    }
   },
   "source": [
    "### MSAIL\n",
    "\n",
    "![](files/MSAIL.png)"
   ]
  },
  {
   "cell_type": "markdown",
   "metadata": {
    "slideshow": {
     "slide_type": "slide"
    }
   },
   "source": [
    "## Ask: Students' backgrounds?\n",
    "\n",
    "* Programming Experience?\n",
    "* Machine Learning Experience?\n",
    "* Machine Learning Interests?\n",
    "\n",
    "### If I don't know what I'm interested in..."
   ]
  },
  {
   "cell_type": "markdown",
   "metadata": {
    "slideshow": {
     "slide_type": "fragment"
    }
   },
   "source": [
    "Don't worry: today we'll survey subfields of ML in this talk,\n",
    "and give a real example of the subfield of \"unsupervised learning\":\n",
    "we'll\n",
    "* invent a real algorithm\n",
    "* to solve a real problem, then\n",
    "* apply it to real data\n",
    "* to get real insight."
   ]
  },
  {
   "cell_type": "markdown",
   "metadata": {
    "slideshow": {
     "slide_type": "slide"
    }
   },
   "source": [
    "## Programming: Hardcoded?"
   ]
  },
  {
   "cell_type": "markdown",
   "metadata": {
    "slideshow": {
     "slide_type": "fragment"
    }
   },
   "source": [
    "* Silly Programming: **No Rules**"
   ]
  },
  {
   "cell_type": "markdown",
   "metadata": {
    "slideshow": {
     "slide_type": "fragment"
    }
   },
   "source": [
    "   * Twice the work to *double* the generality"
   ]
  },
  {
   "cell_type": "markdown",
   "metadata": {
    "slideshow": {
     "slide_type": "fragment"
    }
   },
   "source": [
    "* Programming: **Rules**"
   ]
  },
  {
   "cell_type": "markdown",
   "metadata": {
    "slideshow": {
     "slide_type": "fragment"
    }
   },
   "source": [
    "  * Twice the work to *square* the generality."
   ]
  },
  {
   "cell_type": "markdown",
   "metadata": {
    "slideshow": {
     "slide_type": "fragment"
    }
   },
   "source": [
    "* Machine Learning: **Rules to Learn Rules**"
   ]
  },
  {
   "cell_type": "markdown",
   "metadata": {
    "slideshow": {
     "slide_type": "fragment"
    }
   },
   "source": [
    "  * Twice the work to *supersquare* the generality."
   ]
  },
  {
   "cell_type": "markdown",
   "metadata": {
    "slideshow": {
     "slide_type": "slide"
    }
   },
   "source": [
    "## Rules to Learn Rules: Flavors of Machine Learning.\n",
    "\n",
    "* **Reinforcement Learning**: How to behave in a simple world. E.g. Baby touching hot stove."
   ]
  },
  {
   "cell_type": "markdown",
   "metadata": {
    "slideshow": {
     "slide_type": "fragment"
    }
   },
   "source": [
    "* **Game Theory and Dynamics**: How to behave in a complicated world. E.g. Baby touching other baby."
   ]
  },
  {
   "cell_type": "markdown",
   "metadata": {
    "slideshow": {
     "slide_type": "fragment"
    }
   },
   "source": [
    "* **Supervised Learning**: Functions, i.e. how to behave when you're told what to do. E.g. Baby imitating parents."
   ]
  },
  {
   "cell_type": "markdown",
   "metadata": {
    "slideshow": {
     "slide_type": "fragment"
    }
   },
   "source": [
    "* **Unsupervised Learning**: Structure, i.e. how to describe how something's behaving. E.g. Baby watching magician. "
   ]
  },
  {
   "cell_type": "markdown",
   "metadata": {
    "slideshow": {
     "slide_type": "slide"
    }
   },
   "source": [
    "## Clustering Problem.\n",
    "\n",
    "TODO: write some of stuff Aaron/Sam was gonna say (e.g. datapoints, nearest, similarity, cluster; the goal is all the same, but different algorithms differ in how they define \"similarity\" and \"cluster\").\n",
    "\n",
    "**Questions for audience**: What datasets would be interesting to cluster? Potential applications of clustering? "
   ]
  },
  {
   "cell_type": "markdown",
   "metadata": {
    "slideshow": {
     "slide_type": "slide"
    }
   },
   "source": [
    "## Model, Iteration, E-M, KMeans\n",
    "\n",
    "Model:\n",
    "* A few secret centers\n",
    "* Every datapoint is a jiggled version of some center.   "
   ]
  },
  {
   "cell_type": "markdown",
   "metadata": {
    "slideshow": {
     "slide_type": "fragment"
    }
   },
   "source": [
    "Grand idea behind much of Machine Learning (**iteration**):\n",
    "* guess, and while it looks wrong, change it.\n",
    "\n",
    "Better (**gradient descent**):\n",
    "* guess, and while some part of it looks wrong, change that part.\n"
   ]
  },
  {
   "cell_type": "markdown",
   "metadata": {
    "slideshow": {
     "slide_type": "fragment"
    }
   },
   "source": [
    "We'll use the same idea to invent KMeans.\n",
    "\n",
    "Unknowns: \n",
    "* Where the centers are.\n",
    "* Which center each datapoint came from."
   ]
  },
  {
   "cell_type": "markdown",
   "metadata": {
    "slideshow": {
     "slide_type": "subslide"
    }
   },
   "source": [
    "### Error type ``M\"\n",
    "\n",
    "![](files/M_error.png)"
   ]
  },
  {
   "cell_type": "markdown",
   "metadata": {
    "slideshow": {
     "slide_type": "subslide"
    }
   },
   "source": [
    "### Error type ``M\"\n",
    "\n",
    "![](files/M_jump.png)"
   ]
  },
  {
   "cell_type": "markdown",
   "metadata": {
    "slideshow": {
     "slide_type": "subslide"
    }
   },
   "source": [
    "### Error type ``M\"\n",
    "\n",
    "![](files/Better.png)"
   ]
  },
  {
   "cell_type": "markdown",
   "metadata": {
    "slideshow": {
     "slide_type": "subslide"
    }
   },
   "source": [
    "### Error type ``E\"\n",
    "\n",
    "![](files/E_error.png)"
   ]
  },
  {
   "cell_type": "markdown",
   "metadata": {
    "slideshow": {
     "slide_type": "subslide"
    }
   },
   "source": [
    "### Error type ``E\"\n",
    "\n",
    "![](files/E_jump.png)"
   ]
  },
  {
   "cell_type": "markdown",
   "metadata": {
    "slideshow": {
     "slide_type": "subslide"
    }
   },
   "source": [
    "### Error type ``E\"\n",
    "\n",
    "![](files/Better.png)"
   ]
  },
  {
   "cell_type": "markdown",
   "metadata": {
    "slideshow": {
     "slide_type": "subslide"
    }
   },
   "source": [
    "### KMeans\n",
    "\n",
    "We are thus led to algorithm:\n",
    "\n",
    "* Associate each point to the closest center. (E step)\n",
    "* Move each center to the average location of its associated points. (M step)\n",
    "\n",
    "And repeat."
   ]
  },
  {
   "cell_type": "markdown",
   "metadata": {
    "slideshow": {
     "slide_type": "slide"
    }
   },
   "source": [
    "## Iris Dataset\n",
    "\n",
    "**Question for audience**: Does the Iris dataset fit our model?"
   ]
  },
  {
   "cell_type": "markdown",
   "metadata": {
    "slideshow": {
     "slide_type": "slide"
    }
   },
   "source": [
    "## iPython\n",
    "\n",
    "TODO: paste Aaron's code and discussion here [and a bit in iris dataset slide].\n",
    "\n",
    "CODE\n",
    "\n",
    "WOAH MORE CODE\n",
    "\n",
    "WOAH EVEN MORE CODE\n",
    "\n",
    "TODO: paste Aaron's code and discussion here."
   ]
  },
  {
   "cell_type": "markdown",
   "metadata": {
    "slideshow": {
     "slide_type": "subslide"
    }
   },
   "source": [
    "### What is Clustering?"
   ]
  },
  {
   "cell_type": "markdown",
   "metadata": {
    "slideshow": {
     "slide_type": "fragment"
    }
   },
   "source": [
    "Clustering attempts to classify data into groups, the characteristics of which are not known at run-time. A successful clustering algorithm will divide the data-set into k clusters such that **each element of each cluster is more similar to the other elements of its cluster than it is to any elements of another cluster**.\n",
    "\n",
    "Basically, we draw circles around datapoints that looks like they \"belongs together\".\n",
    "\n",
    "This is the basic idea of all clustering algorithms; they simply differ in their definition of ``similar\" and ``cluster\".\n",
    "\n"
   ]
  },
  {
   "cell_type": "markdown",
   "metadata": {
    "slideshow": {
     "slide_type": "fragment"
    }
   },
   "source": [
    "![](files/clustering.gif)"
   ]
  },
  {
   "cell_type": "markdown",
   "metadata": {
    "slideshow": {
     "slide_type": "subslide"
    }
   },
   "source": [
    "### The K-Means Algorithm"
   ]
  },
  {
   "cell_type": "markdown",
   "metadata": {
    "slideshow": {
     "slide_type": "fragment"
    }
   },
   "source": [
    "The K-Means algorithm divides the data into K clusters by continually optimizing the location of K *centroids*, calculated as the arithmetic mean of each element in the cluster. These \"K-means\" are used to define the custers. Each element's cluster is determined by which of the K means it is closest to.\n",
    "\n"
   ]
  },
  {
   "cell_type": "markdown",
   "metadata": {
    "slideshow": {
     "slide_type": "fragment"
    }
   },
   "source": [
    "### Pseudocode algorithm definition"
   ]
  },
  {
   "cell_type": "markdown",
   "metadata": {
    "slideshow": {
     "slide_type": "fragment"
    }
   },
   "source": [
    "1. Randomly select the locaiton of K centroids \n",
    "2. Calculate the distance between each data point and centroids.\n",
    "3. \"Assign\" each data point to whichever centroid is closest\n",
    "4. Recalculate the new cluster center taking the mean position of all points assigned to the centroid\n",
    "5. If no data point was reassigned then stop, otherwise repeat from step 3.\n",
    "\n"
   ]
  },
  {
   "cell_type": "markdown",
   "metadata": {
    "slideshow": {
     "slide_type": "subslide"
    }
   },
   "source": [
    "### Formal Mathematical Definition"
   ]
  },
  {
   "cell_type": "markdown",
   "metadata": {
    "slideshow": {
     "slide_type": "fragment"
    }
   },
   "source": [
    "$$\n",
    "\\text{Error} = \\sum_{i = 1}^{k} \\sum_{j=1}^{n} ||x_i^j - c_j||^2 \n",
    "$$\n",
    "\n",
    "$$\n",
    "\\text{Mean} = \\frac{1}{n} \\sum_{j=1}^{n} x_i\n",
    "$$"
   ]
  },
  {
   "cell_type": "code",
   "execution_count": 3,
   "metadata": {
    "collapsed": true,
    "slideshow": {
     "slide_type": "slide"
    }
   },
   "outputs": [],
   "source": [
    "%matplotlib inline\n",
    "\n",
    "from sklearn import datasets, cluster\n",
    "import numpy as np\n",
    "import matplotlib.pyplot as plt\n",
    "from mpl_toolkits.mplot3d import Axes3D\n",
    "\n",
    "# note: I deliberately chose a random seed that ends up \n",
    "# labeling the clusters with the same numbering convention \n",
    "# as the original y values \n",
    "np.random.seed(2)"
   ]
  },
  {
   "cell_type": "code",
   "execution_count": 4,
   "metadata": {
    "collapsed": true,
    "slideshow": {
     "slide_type": "fragment"
    }
   },
   "outputs": [],
   "source": [
    "# load data\n",
    "iris = datasets.load_iris()\n",
    "\n",
    "X_iris = iris.data\n",
    "y_iris = iris.target"
   ]
  },
  {
   "cell_type": "code",
   "execution_count": 5,
   "metadata": {
    "collapsed": false,
    "slideshow": {
     "slide_type": "fragment"
    }
   },
   "outputs": [
    {
     "data": {
      "image/png": "[encoded data removed]",
      "text/plain": [
       "<matplotlib.figure.Figure at 0x16b4f5f46d8>"
      ]
     },
     "metadata": {},
     "output_type": "display_data"
    }
   ],
   "source": [
    "# plot raw data, without clusters\n",
    "fig = plt.figure(1, figsize=(8, 8))\n",
    "plt.clf()\n",
    "ax = Axes3D(fig, rect=[0, 0, 1, 1], elev=8, azim=200)\n",
    "plt.cla()\n",
    "\n",
    "ax.scatter(X_iris[:, 3], X_iris[:, 0], X_iris[:, 2])\n",
    "\n",
    "ax.w_xaxis.set_ticklabels([])\n",
    "ax.w_yaxis.set_ticklabels([])\n",
    "ax.w_zaxis.set_ticklabels([])\n",
    "ax.set_xlabel('Petal width')\n",
    "ax.set_ylabel('Sepal length')\n",
    "ax.set_zlabel('Petal length')\n",
    "\n",
    "plt.show()"
   ]
  },
  {
   "cell_type": "code",
   "execution_count": 7,
   "metadata": {
    "collapsed": true,
    "slideshow": {
     "slide_type": "slide"
    }
   },
   "outputs": [],
   "source": [
    "# do the clustering\n",
    "k_means = cluster.KMeans(n_clusters=3)\n",
    "k_means.fit(X_iris) \n",
    "labels = k_means.labels_"
   ]
  },
  {
   "cell_type": "code",
   "execution_count": 8,
   "metadata": {
    "collapsed": false,
    "slideshow": {
     "slide_type": "fragment"
    }
   },
   "outputs": [
    {
     "data": {
      "image/png": "[encoded data removed]",
      "text/plain": [
       "<matplotlib.figure.Figure at 0x16b4f5f45f8>"
      ]
     },
     "metadata": {},
     "output_type": "display_data"
    }
   ],
   "source": [
    "# plot the clusters in color\n",
    "fig = plt.figure(1, figsize=(8, 8))\n",
    "plt.clf()\n",
    "ax = Axes3D(fig, rect=[0, 0, 1, 1], elev=8, azim=200)\n",
    "plt.cla()\n",
    "\n",
    "ax.scatter(X_iris[:, 3], X_iris[:, 0], X_iris[:, 2], c=labels.astype(np.float))\n",
    "\n",
    "ax.w_xaxis.set_ticklabels([])\n",
    "ax.w_yaxis.set_ticklabels([])\n",
    "ax.w_zaxis.set_ticklabels([])\n",
    "ax.set_xlabel('Petal width')\n",
    "ax.set_ylabel('Sepal length')\n",
    "ax.set_zlabel('Petal length')\n",
    "\n",
    "plt.show()"
   ]
  },
  {
   "cell_type": "code",
   "execution_count": null,
   "metadata": {
    "collapsed": true,
    "slideshow": {
     "slide_type": "skip"
    }
   },
   "outputs": [],
   "source": [
    "# HEY AARON: I COMMENTED THIS OUT BY TELLING THE SLIDESHOW TO SKIP THIS SLIDE.\n",
    "# check how many of the samples were correctly labeled\n",
    "correct_labels = sum(y_iris == labels)\n",
    "\n",
    "print(\"Result: %d out of %d samples were correctly labeled.\" % (correct_labels, y_iris.size))"
   ]
  },
  {
   "cell_type": "markdown",
   "metadata": {
    "slideshow": {
     "slide_type": "slide"
    }
   },
   "source": [
    "### How to select K \n",
    "\n",
    "It turns out, selecting k, the number of clusters to fit to your data, is actually a reasonabily hard problem to solve, that being said, several wikely used standards of practice exsist."
   ]
  },
  {
   "cell_type": "markdown",
   "metadata": {
    "slideshow": {
     "slide_type": "fragment"
    }
   },
   "source": [
    "#### Rule of Thumb\n",
    "\n",
    "$$\n",
    " k \\approx \\sqrt{\\frac{n}{2}} \n",
    "$$"
   ]
  },
  {
   "cell_type": "markdown",
   "metadata": {
    "slideshow": {
     "slide_type": "fragment"
    }
   },
   "source": [
    "#### Guess and Check\n",
    "\n",
    "If you know nothing about your data, you can simply run the k-means algorithm with many differnet values of K and see which one gives you the best result"
   ]
  },
  {
   "cell_type": "markdown",
   "metadata": {
    "slideshow": {
     "slide_type": "fragment"
    }
   },
   "source": [
    "#### More Advanced Approaches\n",
    "\n",
    "Much more advanced, and sometimes more robust approaches exsist, but require a thurough understanding of informaiton theory. If you're interested, you can look at [this wikipedia article](https://en.wikipedia.org/wiki/Determining_the_number_of_clusters_in_a_data_set). "
   ]
  },
  {
   "cell_type": "markdown",
   "metadata": {
    "slideshow": {
     "slide_type": "slide"
    }
   },
   "source": [
    "## Talk Feedback\n",
    "\n",
    "This was our 0th talk!\n",
    "Feedback?\n",
    "\n",
    "* Too slow/fast?\n",
    "* Balance of theory and practice?\n",
    "* Fun? How improve?"
   ]
  },
  {
   "cell_type": "markdown",
   "metadata": {
    "slideshow": {
     "slide_type": "slide"
    }
   },
   "source": [
    "## Discussion\n",
    "\n",
    "Ask away!\n",
    "\n",
    "For example:\n",
    "\n",
    "* When does KMeans converge? Does it converge uniquely?\n",
    "* How to choose a good K?\n",
    "* What types of datasets work well with KMeans? What don't?\n",
    "* How might we improve KMeans?\n",
    "* What's another example of this two-step \"E-M\" iterative approach you mentioned? \n",
    "* How can I do clustering on my own? What are the good clustering packages?\n",
    "\n",
    "TODO: add additional subslides for links/diagrams."
   ]
  },
  {
   "cell_type": "markdown",
   "metadata": {
    "slideshow": {
     "slide_type": "subslide"
    }
   },
   "source": [
    "Hi! I'm an example subslide to be expanded..."
   ]
  },
  {
   "cell_type": "markdown",
   "metadata": {
    "slideshow": {
     "slide_type": "subslide"
    }
   },
   "source": [
    "Me too!"
   ]
  },
  {
   "cell_type": "code",
   "execution_count": null,
   "metadata": {
    "collapsed": true
   },
   "outputs": [],
   "source": []
  }
 ],
 "metadata": {
  "celltoolbar": "Slideshow",
  "kernelspec": {
   "display_name": "Python 3",
   "language": "python",
   "name": "python3"
  },
  "language_info": {
   "codemirror_mode": {
    "name": "ipython",
    "version": 3
   },
   "file_extension": ".py",
   "mimetype": "text/x-python",
   "name": "python",
   "nbconvert_exporter": "python",
   "pygments_lexer": "ipython3",
   "version": "3.5.1"
  }
 },
 "nbformat": 4,
 "nbformat_minor": 0
}
