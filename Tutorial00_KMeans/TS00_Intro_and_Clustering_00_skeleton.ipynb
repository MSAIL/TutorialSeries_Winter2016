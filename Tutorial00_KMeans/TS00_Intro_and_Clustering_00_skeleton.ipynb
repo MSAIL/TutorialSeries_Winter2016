{
 "cells": [
  {
   "cell_type": "markdown",
   "metadata": {
    "slideshow": {
     "slide_type": "slide"
    }
   },
   "source": [
    "# Welcome!\n",
    "## to MSAIL Winter 2016\n",
    "### Tutorial Series 00!"
   ]
  },
  {
   "cell_type": "markdown",
   "metadata": {
    "slideshow": {
     "slide_type": "fragment"
    }
   },
   "source": [
    "![](files/iris.jpg)\n",
    "*We'll analyze these flowers!*\n",
    "\n",
    "**TODO: insert image about clustering.**\n",
    "**NOTE: downarrow to view outline.**"
   ]
  },
  {
   "cell_type": "markdown",
   "metadata": {
    "slideshow": {
     "slide_type": "subslide"
    }
   },
   "source": [
    "Outline:\n",
    "\n",
    " 0. Introduction\n",
    "   0. Introduce: MSAIL, Aaron, Sam\n",
    "   1. Ask: Students' backgrounds?\n",
    "   2. Setup: Jupyter\n",
    " 1. What is Machine Learning?\n",
    "   0. Programming: Hardcoded?\n",
    "   1. Rules to Learn Rules: Flavors of ML\n",
    "   2. Clustering Problem.\n",
    "   3. Model, Iteration, E-M, KMeans\n",
    " 2. Hands-on\n",
    "   0. Iris Dataset\n",
    "   1. iPython: sci-kit-learn.\n",
    "   2. iPython: kmeans clustering\n",
    " 3. Wrap-up\n",
    "   0. Talk Feedback\n",
    "   1. Discussion\n",
    " "
   ]
  },
  {
   "cell_type": "markdown",
   "metadata": {
    "slideshow": {
     "slide_type": "slide"
    }
   },
   "source": [
    "## Introduce: MSAIL, Aaron, Sam\n"
   ]
  },
  {
   "cell_type": "markdown",
   "metadata": {
    "slideshow": {
     "slide_type": "subslide"
    }
   },
   "source": [
    "### Aaron\n",
    "\n",
    "![](files/aaron.jpg)"
   ]
  },
  {
   "cell_type": "markdown",
   "metadata": {
    "slideshow": {
     "slide_type": "subslide"
    }
   },
   "source": [
    "### Sam\n",
    "\n",
    "![](files/sam.jpg)"
   ]
  },
  {
   "cell_type": "markdown",
   "metadata": {
    "slideshow": {
     "slide_type": "subslide"
    }
   },
   "source": [
    "### MSAIL\n",
    "\n",
    "![](files/MSAIL.png)"
   ]
  },
  {
   "cell_type": "markdown",
   "metadata": {
    "slideshow": {
     "slide_type": "slide"
    }
   },
   "source": [
    "## Ask: Students' backgrounds?\n",
    "\n",
    "* Programming Experience?\n",
    "* Machine Learning Experience?\n",
    "* Machine Learning Interests?\n",
    "\n",
    "### If I don't know what I'm interested in..."
   ]
  },
  {
   "cell_type": "markdown",
   "metadata": {
    "slideshow": {
     "slide_type": "fragment"
    }
   },
   "source": [
    "Don't worry: today we'll survey subfields of ML in this talk,\n",
    "and give a real example of the subfield of \"unsupervised learning\":\n",
    "we'll\n",
    "* invent a real algorithm\n",
    "* to solve a real problem, then\n",
    "* apply it to real data\n",
    "* to get real insight."
   ]
  },
  {
   "cell_type": "markdown",
   "metadata": {
    "slideshow": {
     "slide_type": "slide"
    }
   },
   "source": [
    "## Programming: Hardcoded?"
   ]
  },
  {
   "cell_type": "markdown",
   "metadata": {
    "slideshow": {
     "slide_type": "fragment"
    }
   },
   "source": [
    "* Silly Programming: **No Rules**"
   ]
  },
  {
   "cell_type": "markdown",
   "metadata": {
    "slideshow": {
     "slide_type": "fragment"
    }
   },
   "source": [
    "   * Twice the work to *double* the generality"
   ]
  },
  {
   "cell_type": "markdown",
   "metadata": {
    "slideshow": {
     "slide_type": "fragment"
    }
   },
   "source": [
    "* Programming: **Rules**"
   ]
  },
  {
   "cell_type": "markdown",
   "metadata": {
    "slideshow": {
     "slide_type": "fragment"
    }
   },
   "source": [
    "  * Twice the work to *square* the generality."
   ]
  },
  {
   "cell_type": "markdown",
   "metadata": {
    "slideshow": {
     "slide_type": "fragment"
    }
   },
   "source": [
    "* Machine Learning: **Rules to Learn Rules**"
   ]
  },
  {
   "cell_type": "markdown",
   "metadata": {
    "slideshow": {
     "slide_type": "fragment"
    }
   },
   "source": [
    "  * Twice the work to *supersquare* the generality."
   ]
  },
  {
   "cell_type": "markdown",
   "metadata": {
    "slideshow": {
     "slide_type": "slide"
    }
   },
   "source": [
    "## Rules to Learn Rules: Flavors of Machine Learning.\n",
    "\n",
    "* **Reinforcement Learning**: How to behave in a simple world. E.g. Baby touching hot stove."
   ]
  },
  {
   "cell_type": "markdown",
   "metadata": {
    "slideshow": {
     "slide_type": "fragment"
    }
   },
   "source": [
    "* **Game Theory and Dynamics**: How to behave in a complicated world. E.g. Baby touching other baby."
   ]
  },
  {
   "cell_type": "markdown",
   "metadata": {
    "slideshow": {
     "slide_type": "fragment"
    }
   },
   "source": [
    "* **Supervised Learning**: Functions, i.e. how to behave when you're told what to do. E.g. Baby imitating parents."
   ]
  },
  {
   "cell_type": "markdown",
   "metadata": {
    "slideshow": {
     "slide_type": "fragment"
    }
   },
   "source": [
    "* **Unsupervised Learning**: Structure, i.e. how to describe how something's behaving. E.g. Baby watching magician. "
   ]
  },
  {
   "cell_type": "markdown",
   "metadata": {
    "slideshow": {
     "slide_type": "slide"
    }
   },
   "source": [
    "## Clustering Problem.\n",
    "\n",
    "TODO: write some of stuff Aaron/Sam was gonna say (e.g. datapoints, nearest, similarity, cluster; the goal is all the same, but different algorithms differ in how they define \"similarity\" and \"cluster\").\n",
    "\n",
    "**Questions for audience**: What datasets would be interesting to cluster? Potential applications of clustering? "
   ]
  },
  {
   "cell_type": "markdown",
   "metadata": {
    "slideshow": {
     "slide_type": "slide"
    }
   },
   "source": [
    "## Model, Iteration, E-M, KMeans\n",
    "\n",
    "Model:\n",
    "* A few secret centers\n",
    "* Every datapoint is a jiggled version of some center.   "
   ]
  },
  {
   "cell_type": "markdown",
   "metadata": {
    "slideshow": {
     "slide_type": "fragment"
    }
   },
   "source": [
    "Grand idea behind much of Machine Learning (**iteration**):\n",
    "* guess, and while it looks wrong, change it.\n",
    "\n",
    "Better (**gradient descent**):\n",
    "* guess, and while some part of it looks wrong, change that part.\n"
   ]
  },
  {
   "cell_type": "markdown",
   "metadata": {
    "slideshow": {
     "slide_type": "fragment"
    }
   },
   "source": [
    "We'll use the same idea to invent KMeans.\n",
    "\n",
    "Unknowns: \n",
    "* Where the centers are.\n",
    "* Which center each datapoint came from."
   ]
  },
  {
   "cell_type": "markdown",
   "metadata": {
    "slideshow": {
     "slide_type": "subslide"
    }
   },
   "source": [
    "### Error type ``M\"\n",
    "\n",
    "![](files/M_error.png)"
   ]
  },
  {
   "cell_type": "markdown",
   "metadata": {
    "slideshow": {
     "slide_type": "subslide"
    }
   },
   "source": [
    "### Error type ``M\"\n",
    "\n",
    "![](files/M_jump.png)"
   ]
  },
  {
   "cell_type": "markdown",
   "metadata": {
    "slideshow": {
     "slide_type": "subslide"
    }
   },
   "source": [
    "### Error type ``M\"\n",
    "\n",
    "![](files/Better.png)"
   ]
  },
  {
   "cell_type": "markdown",
   "metadata": {
    "slideshow": {
     "slide_type": "subslide"
    }
   },
   "source": [
    "### Error type ``E\"\n",
    "\n",
    "![](files/E_error.png)"
   ]
  },
  {
   "cell_type": "markdown",
   "metadata": {
    "slideshow": {
     "slide_type": "subslide"
    }
   },
   "source": [
    "### Error type ``E\"\n",
    "\n",
    "![](files/E_jump.png)"
   ]
  },
  {
   "cell_type": "markdown",
   "metadata": {
    "slideshow": {
     "slide_type": "subslide"
    }
   },
   "source": [
    "### Error type ``E\"\n",
    "\n",
    "![](files/Better.png)"
   ]
  },
  {
   "cell_type": "markdown",
   "metadata": {
    "slideshow": {
     "slide_type": "subslide"
    }
   },
   "source": [
    "### KMeans\n",
    "\n",
    "We are thus led to algorithm:\n",
    "\n",
    "* Associate each point to the closest center. (E step)\n",
    "* Move each center to the average location of its associated points. (M step)\n",
    "\n",
    "And repeat."
   ]
  },
  {
   "cell_type": "markdown",
   "metadata": {
    "slideshow": {
     "slide_type": "slide"
    }
   },
   "source": [
    "## Iris Dataset\n",
    "\n",
    "**Question for audience**: Does the Iris dataset fit our model?"
   ]
  },
  {
   "cell_type": "markdown",
   "metadata": {
    "slideshow": {
     "slide_type": "slide"
    }
   },
   "source": [
    "## iPython\n",
    "\n",
    "TODO: paste Aaron's code and discussion here [and a bit in iris dataset slide].\n",
    "\n",
    "CODE\n",
    "\n",
    "WOAH MORE CODE\n",
    "\n",
    "WOAH EVEN MORE CODE\n",
    "\n",
    "TODO: paste Aaron's code and discussion here."
   ]
  },
  {
   "cell_type": "markdown",
   "metadata": {
    "slideshow": {
     "slide_type": "slide"
    }
   },
   "source": [
    "## Talk Feedback\n",
    "\n",
    "This was our 0th talk!\n",
    "Feedback?\n",
    "\n",
    "* Too slow/fast?\n",
    "* Balance of theory and practice?\n",
    "* Fun? How improve?"
   ]
  },
  {
   "cell_type": "markdown",
   "metadata": {
    "slideshow": {
     "slide_type": "slide"
    }
   },
   "source": [
    "## Discussion\n",
    "\n",
    "Ask away!\n",
    "\n",
    "For example:\n",
    "\n",
    "* When does KMeans converge? Does it converge uniquely?\n",
    "* How to choose a good K?\n",
    "* What types of datasets work well with KMeans? What don't?\n",
    "* How might we improve KMeans?\n",
    "* What's another example of this two-step \"E-M\" iterative approach you mentioned? \n",
    "* How can I do clustering on my own? What are the good clustering packages?\n",
    "\n",
    "TODO: add additional subslides for links/diagrams."
   ]
  },
  {
   "cell_type": "markdown",
   "metadata": {
    "slideshow": {
     "slide_type": "subslide"
    }
   },
   "source": [
    "Hi! I'm an example subslide to be expanded..."
   ]
  },
  {
   "cell_type": "markdown",
   "metadata": {
    "slideshow": {
     "slide_type": "subslide"
    }
   },
   "source": [
    "Me too!"
   ]
  },
  {
   "cell_type": "code",
   "execution_count": null,
   "metadata": {
    "collapsed": true
   },
   "outputs": [],
   "source": []
  }
 ],
 "metadata": {
  "celltoolbar": "Slideshow",
  "kernelspec": {
   "display_name": "Python 3",
   "language": "python",
   "name": "python3"
  },
  "language_info": {
   "codemirror_mode": {
    "name": "ipython",
    "version": 3
   },
   "file_extension": ".py",
   "mimetype": "text/x-python",
   "name": "python",
   "nbconvert_exporter": "python",
   "pygments_lexer": "ipython3",
   "version": "3.5.1"
  }
 },
 "nbformat": 4,
 "nbformat_minor": 0
}
