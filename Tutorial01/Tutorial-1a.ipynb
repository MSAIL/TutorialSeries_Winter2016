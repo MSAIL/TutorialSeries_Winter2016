{
 "cells": [
  {
   "cell_type": "markdown",
   "metadata": {
    "slideshow": {
     "slide_type": "slide"
    }
   },
   "source": [
    "# Welcome!\n",
    "## to MSAIL Winter 2016\n",
    "### Tutorial Series"
   ]
  },
  {
   "cell_type": "markdown",
   "metadata": {
    "slideshow": {
     "slide_type": "slide"
    }
   },
   "source": [
    "## Outline\n",
    "\n",
    " 1. Recap\n",
    "   1. Machine Learning, Unsupervised Learning, Clustering\n",
    "   2. Iteration, K-Means\n",
    "   4. X Dataset. Doubt.\n",
    " 2. Gaussians and GMM\n",
    "   1. Unknowns: centers, spread/shape; continuous associations\n",
    "   2. Model spread/shape by Gaussians: 1d->2d->beyond [plots!]\n",
    "   3. GMM overview\n",
    "   4. Expectation Maximization\n",
    " 3. Hands-on\n",
    "   1. Show datasets\n",
    "   2. iPython: GMM on all.\n",
    " . Wrap-up\n",
    "   1. Applications of Clustering\n",
    "   2. Density Estimation + Generative Models on Iris\n",
    "   3. Discussion"
   ]
  },
  {
   "cell_type": "markdown",
   "metadata": {},
   "source": [
    "## Clustering: K-Means"
   ]
  },
  {
   "cell_type": "code",
   "execution_count": 28,
   "metadata": {
    "collapsed": false
   },
   "outputs": [
    {
     "data": {
      "image/png": "[encoded data removed]",
      "text/plain": [
       "<matplotlib.figure.Figure at 0x2b0a6cfa518>"
      ]
     },
     "metadata": {},
     "output_type": "display_data"
    }
   ],
   "source": [
    "%matplotlib inline\n",
    "NUM_CLUSTERS=2\n",
    "WHICH_DATASET = 'IRIS' # 'X' or 'IRIS'\n",
    "\n",
    "from sklearn import cluster, datasets\n",
    "import numpy as np\n",
    "import matplotlib.pyplot as plt\n",
    "\n",
    "# load data\n",
    "X_iris = datasets.load_iris().data if WHICH_DATASET=='IRIS' else \\\n",
    "               np.genfromtxt('xdata.csv', delimiter=',', names=['x', 'y'])\n",
    "X_iris = np.array([list(x) for x in X_iris]) #numpy likes lists\n",
    "\n",
    "# do the clustering\n",
    "k_means = cluster.KMeans(n_clusters=NUM_CLUSTERS)\n",
    "k_means.fit(X_iris)\n",
    "labels = k_means.labels_\n",
    "\n",
    "# plot raw data, without clusters\n",
    "# plot the clusters in color\n",
    "fig = plt.figure(1, figsize=(8, 8))\n",
    "\n",
    "plt.scatter(X_iris[:, 0], X_iris[:, 1], c=labels.astype(np.float))\n",
    "\n",
    "plt.show()"
   ]
  },
  {
   "cell_type": "markdown",
   "metadata": {},
   "source": [
    "## Uses of Clustering\n",
    "\n",
    "To cluster is to learn when two datapoints are \"the same\". This is useful for:\n",
    "\n",
    "1. Learn Features to plug into Supervised Learners\n",
    "   1. Such as *Classifiers*\n",
    "   2. Such as *Movie Recommenders*\n",
    "   3. Learn parameters within each cluster\n",
    "2. Find Species:\n",
    "   1. Biological species\n",
    "   2. Menu Items by Nutritional Info\n",
    "   3. ???"
   ]
  },
  {
   "cell_type": "markdown",
   "metadata": {},
   "source": [
    "## Uses of Clustering\n",
    "\n",
    "To cluster is to learn when two datapoints are \"the same\". This is useful for:\n",
    "\n",
    "1. Learn Features to plug into Supervised Learners\n",
    "   1. Such as *Classifiers*\n",
    "   2. Such as *Movie Recommenders*\n",
    "   3. Learn parameters within each cluster\n",
    "2. Find Species:\n",
    "   1. Biological species\n",
    "   2. Menu Items by Nutritional Info\n",
    "   3. Voter Population by demographic statistics [helps supervised]\n",
    "   4. ???"
   ]
  },
  {
   "cell_type": "markdown",
   "metadata": {},
   "source": [
    "## Uses of Clustering\n",
    "\n",
    "To cluster is to learn when two datapoints are \"the same\". This is useful for:\n",
    "\n",
    "1. Learn Features to plug into Supervised Learners\n",
    "   1. Such as *Classifiers*\n",
    "   2. Such as *Movie Recommenders*\n",
    "   3. Learn parameters within each cluster\n",
    "2. Find Species:\n",
    "   1. Biological species\n",
    "   2. Menu Items by Nutritional Info\n",
    "   3. Voter Population by demographic statistics [helps supervised]\n",
    "   4. Chemical elements; element-groups [hierarchy]\n",
    "   5. ???"
   ]
  },
  {
   "cell_type": "markdown",
   "metadata": {},
   "source": [
    "## Uses of Clustering\n",
    "\n",
    "To cluster is to learn when two datapoints are \"the same\". This is useful for:\n",
    "\n",
    "1. Learn Features to plug into Supervised Learners\n",
    "   1. Such as *Classifiers*\n",
    "   2. Such as *Movie Recommenders*\n",
    "   3. Learn parameters within each cluster\n",
    "2. Find Species:\n",
    "   1. Biological species\n",
    "   2. Menu Items by Nutritional Info\n",
    "   3. Voter Population by demographic statistics [helps supervised]\n",
    "   4. Chemical elements; element-groups [hierarchy]\n",
    "   5. Encyclopedia articles [text!?]\n",
    "   6. ???"
   ]
  },
  {
   "cell_type": "markdown",
   "metadata": {},
   "source": [
    "## Uses of Clustering\n",
    "\n",
    "To cluster is to learn when two datapoints are \"the same\". This is useful for:\n",
    "\n",
    "1. Learn Features to plug into Supervised Learners\n",
    "   1. Such as *Classifiers*\n",
    "   2. Such as *Movie Recommenders*\n",
    "   3. Learn parameters within each cluster\n",
    "2. Find Species:\n",
    "   1. Biological species\n",
    "   2. Menu Items by Nutritional Info\n",
    "   3. Voter Population by demographic statistics [helps supervised]\n",
    "   4. Chemical elements; element-groups [hierarchy]\n",
    "   5. Encyclopedia articles [text!?]\n",
    "   6. Tissue-types by tomography-output [images are vectors]\n",
    "   7. ???"
   ]
  },
  {
   "cell_type": "markdown",
   "metadata": {},
   "source": [
    "## Uses of Clustering\n",
    "\n",
    "To cluster is to learn when two datapoints are \"the same\". This is useful for:\n",
    "\n",
    "1. Learn Features to plug into Supervised Learners\n",
    "   1. Such as *Classifiers*\n",
    "   2. Such as *Movie Recommenders*\n",
    "   3. Learn parameters within each cluster\n",
    "2. Find Species:\n",
    "   1. Biological species\n",
    "   2. Menu Items by Nutritional Info\n",
    "   3. Voter Population by demographic statistics [helps supervised]\n",
    "   4. Chemical elements; element-groups [hierarchy]\n",
    "   5. Encyclopedia articles [text!?]\n",
    "   6. Tissue-types by tomography-output [images are vectors]\n",
    "   7. Communities within a Social Network [graphs]\n",
    "   8. ???\n",
    "3. Data Faking (Density Estimation Generation)\n",
    "4. Signal Compression\n",
    "5. System Segmentation"
   ]
  },
  {
   "cell_type": "markdown",
   "metadata": {},
   "source": [
    "## Uses of Clustering\n",
    "\n",
    "To cluster is to learn when two datapoints are \"the same\". This is useful for:\n",
    "\n",
    "1. Learn Features to plug into Supervised Learners\n",
    "   1. Such as *Classifiers*\n",
    "   2. Such as *Movie Recommenders*\n",
    "   3. Learn parameters within each cluster\n",
    "2. Find Species:\n",
    "   1. Biological species\n",
    "   2. Menu Items by Nutritional Info\n",
    "   3. Voter Population by demographic statistics [helps supervised]\n",
    "   4. Chemical elements; element-groups [hierarchy]\n",
    "   5. Encyclopedia articles [text!?]\n",
    "   6. Tissue-types by tomography-output [images are vectors]\n",
    "   7. Communities within a Social Network [graphs]\n",
    "   8. ???"
   ]
  },
  {
   "cell_type": "markdown",
   "metadata": {},
   "source": [
    "## Uses of Clustering\n",
    "\n",
    "To cluster is to learn when two datapoints are \"the same\". This is useful for:\n",
    "\n",
    "1. Learn Features to plug into Supervised Learners\n",
    "   1. Such as *Classifiers*\n",
    "   2. Such as *Movie Recommenders*\n",
    "   3. Learn parameters within each cluster\n",
    "2. Find Species:\n",
    "   1. Biological species\n",
    "   2. Menu Items by Nutritional Info\n",
    "   3. Voter Population by demographic statistics [helps supervised]\n",
    "   4. Chemical elements; element-groups [hierarchy]\n",
    "   5. Encyclopedia articles [text!?]\n",
    "   6. Tissue-types by tomography-output [images are vectors]\n",
    "   7. Communities within a Social Network [graphs]\n",
    "   8. ???\n",
    "3. Data Faking (Density Estimation Generation)\n",
    "3. Signal Compression\n",
    "4. System Segmentation"
   ]
  },
  {
   "cell_type": "markdown",
   "metadata": {
    "slideshow": {
     "slide_type": "slide"
    }
   },
   "source": [
    "### Clustering for... Signal Compression\n",
    "![](Mandrill_Original.png)"
   ]
  },
  {
   "cell_type": "markdown",
   "metadata": {
    "slideshow": {
     "slide_type": "subslide"
    }
   },
   "source": [
    "### Clustering for... Signal Compression\n",
    "![](Mandrill_KMeans.png)"
   ]
  },
  {
   "cell_type": "markdown",
   "metadata": {
    "slideshow": {
     "slide_type": "subslide"
    }
   },
   "source": [
    "### Clustering for... Signal Compression\n",
    "![](Mandrill_GMM.png)"
   ]
  },
  {
   "cell_type": "markdown",
   "metadata": {
    "slideshow": {
     "slide_type": "subslide"
    }
   },
   "source": [
    "### Clustering for... Signal Compression\n",
    "![](Mandrill_Original.png)"
   ]
  },
  {
   "cell_type": "markdown",
   "metadata": {
    "slideshow": {
     "slide_type": "slide"
    }
   },
   "source": [
    "### Clustering for... Image Segmentation\n",
    "![](Newspaper.png)"
   ]
  },
  {
   "cell_type": "markdown",
   "metadata": {
    "slideshow": {
     "slide_type": "subslide"
    }
   },
   "source": [
    "### Clustering for... Image Segmentation\n",
    "![](Newspaper_Coordinates.png)"
   ]
  },
  {
   "cell_type": "markdown",
   "metadata": {
    "slideshow": {
     "slide_type": "subslide"
    }
   },
   "source": [
    "### Clustering for... Image Segmentation\n",
    "![](Newspaper_Segmented.png)"
   ]
  },
  {
   "cell_type": "markdown",
   "metadata": {
    "slideshow": {
     "slide_type": "subslide"
    }
   },
   "source": [
    "### Clustering for... Image Segmentation\n",
    "![](Newspaper.png)"
   ]
  },
  {
   "cell_type": "code",
   "execution_count": null,
   "metadata": {
    "collapsed": true
   },
   "outputs": [],
   "source": []
  },
  {
   "cell_type": "code",
   "execution_count": null,
   "metadata": {
    "collapsed": true
   },
   "outputs": [],
   "source": []
  },
  {
   "cell_type": "code",
   "execution_count": null,
   "metadata": {
    "collapsed": true
   },
   "outputs": [],
   "source": []
  }
 ],
 "metadata": {
  "celltoolbar": "Slideshow",
  "kernelspec": {
   "display_name": "Python 3",
   "language": "python",
   "name": "python3"
  },
  "language_info": {
   "codemirror_mode": {
    "name": "ipython",
    "version": 3
   },
   "file_extension": ".py",
   "mimetype": "text/x-python",
   "name": "python",
   "nbconvert_exporter": "python",
   "pygments_lexer": "ipython3",
   "version": "3.5.1"
  }
 },
 "nbformat": 4,
 "nbformat_minor": 0
}
