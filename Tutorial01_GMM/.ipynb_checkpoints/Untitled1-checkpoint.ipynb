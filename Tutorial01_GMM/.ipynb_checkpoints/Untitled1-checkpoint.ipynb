{
 "cells": [
  {
   "cell_type": "code",
   "execution_count": null,
   "metadata": {
    "collapsed": false
   },
   "outputs": [],
   "source": [
    "%matplotlib inline\n",
    "NUM_CLUSTERS=10\n",
    "WHICH_DATASET = 'IRIS' # 'X' or 'IRIS'\n",
    "\n",
    "from sklearn import cluster, datasets\n",
    "import numpy as np\n",
    "import matplotlib.pyplot as plt\n",
    "\n",
    "# load data\n",
    "X_iris = datasets.load_iris().data if WHICH_DATASET=='IRIS' else \\\n",
    "               np.genfromtxt('xdata.csv', delimiter=',', names=['x', 'y'])\n",
    "X_iris = np.array([list(x) for x in X_iris])\n",
    "\n",
    "# do the clustering\n",
    "k_means = cluster.KMeans(n_clusters=NUM_CLUSTERS)\n",
    "k_means.fit(X_iris)\n",
    "labels = k_means.labels_\n",
    "\n",
    "# plot the clusters in color\n",
    "fig = plt.figure(1, figsize=(8, 8))\n",
    "plt.clf()\n",
    "plt.cla()\n",
    "\n",
    "plt.scatter(X_iris[:, 0], X_iris[:, 1], c=labels.astype(np.float))\n",
    "\n",
    "plt.ion()\n",
    "plt.show()"
   ]
  },
  {
   "cell_type": "code",
   "execution_count": null,
   "metadata": {
    "collapsed": true
   },
   "outputs": [],
   "source": [
    "len(X_iris)"
   ]
  },
  {
   "cell_type": "code",
   "execution_count": null,
   "metadata": {
    "collapsed": true
   },
   "outputs": [],
   "source": [
    "2+3"
   ]
  },
  {
   "cell_type": "code",
   "execution_count": null,
   "metadata": {
    "collapsed": false
   },
   "outputs": [],
   "source": []
  },
  {
   "cell_type": "code",
   "execution_count": null,
   "metadata": {
    "collapsed": false
   },
   "outputs": [],
   "source": []
  }
 ],
 "metadata": {
  "kernelspec": {
   "display_name": "Python 3",
   "language": "python",
   "name": "python3"
  },
  "language_info": {
   "codemirror_mode": {
    "name": "ipython",
    "version": 3
   },
   "file_extension": ".py",
   "mimetype": "text/x-python",
   "name": "python",
   "nbconvert_exporter": "python",
   "pygments_lexer": "ipython3",
   "version": "3.5.1"
  }
 },
 "nbformat": 4,
 "nbformat_minor": 0
}
